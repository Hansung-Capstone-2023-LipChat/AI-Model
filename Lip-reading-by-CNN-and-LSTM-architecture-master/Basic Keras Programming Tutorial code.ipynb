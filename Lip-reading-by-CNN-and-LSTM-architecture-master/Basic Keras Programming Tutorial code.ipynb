{
 "cells": [
  {
   "cell_type": "code",
   "execution_count": 1,
   "metadata": {
    "scrolled": false
   },
   "outputs": [
    {
     "name": "stderr",
     "output_type": "stream",
     "text": [
      "/home/shr/anaconda3/lib/python3.6/site-packages/h5py/__init__.py:36: FutureWarning: Conversion of the second argument of issubdtype from `float` to `np.floating` is deprecated. In future, it will be treated as `np.float64 == np.dtype(float).type`.\n",
      "  from ._conv import register_converters as _register_converters\n",
      "Using TensorFlow backend.\n"
     ]
    }
   ],
   "source": [
    "# 0_1. Load keras package needed\n",
    "import numpy as np\n",
    "from keras.utils import np_utils\n",
    "from keras.datasets import mnist\n",
    "from keras import optimizers\n",
    "from keras.models import Sequential\n",
    "from keras.layers import Dense\n",
    "from keras.layers import Flatten\n",
    "from keras.layers.convolutional import Conv2D\n",
    "from keras.layers.convolutional import MaxPooling2D"
   ]
  },
  {
   "cell_type": "code",
   "execution_count": 2,
   "metadata": {},
   "outputs": [],
   "source": [
    "# 0_2. Fix random seed\n",
    "np.random.seed(3)"
   ]
  },
  {
   "cell_type": "code",
   "execution_count": 33,
   "metadata": {},
   "outputs": [
    {
     "name": "stdout",
     "output_type": "stream",
     "text": [
      "Initial train data shape is (60000, 28, 28) Initial train label shape is (60000,)\n"
     ]
    }
   ],
   "source": [
    "# 1_1. Creating Datasets\n",
    "# Load MNIST dataset from server\n",
    "(x_train, y_train), (x_test, y_test) = mnist.load_data()\n",
    "print ( \"Initial train data shape is\",x_train.shape, \"Initial train label shape is\", y_train.shape)"
   ]
  },
  {
   "cell_type": "code",
   "execution_count": null,
   "metadata": {},
   "outputs": [],
   "source": [
    "# Reshape dataset to model input shape \n",
    "x_train = x_train.reshape(60000, 784).astype('float32') / 255.0\n",
    "x_test = x_test.reshape(10000, 784).astype('float32') / 255.0\n",
    "print ( \"Converted train data shape is\",x_train.shape)\n",
    "# Reshape label to one-hat shape for classification problem \n",
    "y_train = np_utils.to_categorical(y_train)\n",
    "y_test = np_utils.to_categorical(y_test)\n",
    "print (\"Converted train label shape is\", y_train.shape)"
   ]
  },
  {
   "cell_type": "code",
   "execution_count": 5,
   "metadata": {},
   "outputs": [
    {
     "data": {
      "image/svg+xml": [
       "<svg height=\"221pt\" viewBox=\"0.00 0.00 309.00 221.00\" width=\"309pt\" xmlns=\"http://www.w3.org/2000/svg\" xmlns:xlink=\"http://www.w3.org/1999/xlink\">\n",
       "<g class=\"graph\" id=\"graph0\" transform=\"scale(1 1) rotate(0) translate(4 217)\">\n",
       "<title>G</title>\n",
       "<polygon fill=\"#ffffff\" points=\"-4,4 -4,-217 305,-217 305,4 -4,4\" stroke=\"transparent\"/>\n",
       "<!-- 139685954717288 -->\n",
       "<g class=\"node\" id=\"node1\">\n",
       "<title>139685954717288</title>\n",
       "<polygon fill=\"none\" points=\"0,-166.5 0,-212.5 301,-212.5 301,-166.5 0,-166.5\" stroke=\"#000000\"/>\n",
       "<text fill=\"#000000\" font-family=\"Times,serif\" font-size=\"14.00\" text-anchor=\"middle\" x=\"81.5\" y=\"-185.8\">dense_1_input: InputLayer</text>\n",
       "<polyline fill=\"none\" points=\"163,-166.5 163,-212.5 \" stroke=\"#000000\"/>\n",
       "<text fill=\"#000000\" font-family=\"Times,serif\" font-size=\"14.00\" text-anchor=\"middle\" x=\"190.5\" y=\"-197.3\">input:</text>\n",
       "<polyline fill=\"none\" points=\"163,-189.5 218,-189.5 \" stroke=\"#000000\"/>\n",
       "<text fill=\"#000000\" font-family=\"Times,serif\" font-size=\"14.00\" text-anchor=\"middle\" x=\"190.5\" y=\"-174.3\">output:</text>\n",
       "<polyline fill=\"none\" points=\"218,-166.5 218,-212.5 \" stroke=\"#000000\"/>\n",
       "<text fill=\"#000000\" font-family=\"Times,serif\" font-size=\"14.00\" text-anchor=\"middle\" x=\"259.5\" y=\"-197.3\">(None, 784)</text>\n",
       "<polyline fill=\"none\" points=\"218,-189.5 301,-189.5 \" stroke=\"#000000\"/>\n",
       "<text fill=\"#000000\" font-family=\"Times,serif\" font-size=\"14.00\" text-anchor=\"middle\" x=\"259.5\" y=\"-174.3\">(None, 784)</text>\n",
       "</g>\n",
       "<!-- 139685954716728 -->\n",
       "<g class=\"node\" id=\"node2\">\n",
       "<title>139685954716728</title>\n",
       "<polygon fill=\"none\" points=\"30.5,-83.5 30.5,-129.5 270.5,-129.5 270.5,-83.5 30.5,-83.5\" stroke=\"#000000\"/>\n",
       "<text fill=\"#000000\" font-family=\"Times,serif\" font-size=\"14.00\" text-anchor=\"middle\" x=\"81.5\" y=\"-102.8\">dense_1: Dense</text>\n",
       "<polyline fill=\"none\" points=\"132.5,-83.5 132.5,-129.5 \" stroke=\"#000000\"/>\n",
       "<text fill=\"#000000\" font-family=\"Times,serif\" font-size=\"14.00\" text-anchor=\"middle\" x=\"160\" y=\"-114.3\">input:</text>\n",
       "<polyline fill=\"none\" points=\"132.5,-106.5 187.5,-106.5 \" stroke=\"#000000\"/>\n",
       "<text fill=\"#000000\" font-family=\"Times,serif\" font-size=\"14.00\" text-anchor=\"middle\" x=\"160\" y=\"-91.3\">output:</text>\n",
       "<polyline fill=\"none\" points=\"187.5,-83.5 187.5,-129.5 \" stroke=\"#000000\"/>\n",
       "<text fill=\"#000000\" font-family=\"Times,serif\" font-size=\"14.00\" text-anchor=\"middle\" x=\"229\" y=\"-114.3\">(None, 784)</text>\n",
       "<polyline fill=\"none\" points=\"187.5,-106.5 270.5,-106.5 \" stroke=\"#000000\"/>\n",
       "<text fill=\"#000000\" font-family=\"Times,serif\" font-size=\"14.00\" text-anchor=\"middle\" x=\"229\" y=\"-91.3\">(None, 64)</text>\n",
       "</g>\n",
       "<!-- 139685954717288&#45;&gt;139685954716728 -->\n",
       "<g class=\"edge\" id=\"edge1\">\n",
       "<title>139685954717288-&gt;139685954716728</title>\n",
       "<path d=\"M150.5,-166.3799C150.5,-158.1745 150.5,-148.7679 150.5,-139.8786\" fill=\"none\" stroke=\"#000000\"/>\n",
       "<polygon fill=\"#000000\" points=\"154.0001,-139.784 150.5,-129.784 147.0001,-139.784 154.0001,-139.784\" stroke=\"#000000\"/>\n",
       "</g>\n",
       "<!-- 139685955121952 -->\n",
       "<g class=\"node\" id=\"node3\">\n",
       "<title>139685955121952</title>\n",
       "<polygon fill=\"none\" points=\"34,-.5 34,-46.5 267,-46.5 267,-.5 34,-.5\" stroke=\"#000000\"/>\n",
       "<text fill=\"#000000\" font-family=\"Times,serif\" font-size=\"14.00\" text-anchor=\"middle\" x=\"85\" y=\"-19.8\">dense_2: Dense</text>\n",
       "<polyline fill=\"none\" points=\"136,-.5 136,-46.5 \" stroke=\"#000000\"/>\n",
       "<text fill=\"#000000\" font-family=\"Times,serif\" font-size=\"14.00\" text-anchor=\"middle\" x=\"163.5\" y=\"-31.3\">input:</text>\n",
       "<polyline fill=\"none\" points=\"136,-23.5 191,-23.5 \" stroke=\"#000000\"/>\n",
       "<text fill=\"#000000\" font-family=\"Times,serif\" font-size=\"14.00\" text-anchor=\"middle\" x=\"163.5\" y=\"-8.3\">output:</text>\n",
       "<polyline fill=\"none\" points=\"191,-.5 191,-46.5 \" stroke=\"#000000\"/>\n",
       "<text fill=\"#000000\" font-family=\"Times,serif\" font-size=\"14.00\" text-anchor=\"middle\" x=\"229\" y=\"-31.3\">(None, 64)</text>\n",
       "<polyline fill=\"none\" points=\"191,-23.5 267,-23.5 \" stroke=\"#000000\"/>\n",
       "<text fill=\"#000000\" font-family=\"Times,serif\" font-size=\"14.00\" text-anchor=\"middle\" x=\"229\" y=\"-8.3\">(None, 10)</text>\n",
       "</g>\n",
       "<!-- 139685954716728&#45;&gt;139685955121952 -->\n",
       "<g class=\"edge\" id=\"edge2\">\n",
       "<title>139685954716728-&gt;139685955121952</title>\n",
       "<path d=\"M150.5,-83.3799C150.5,-75.1745 150.5,-65.7679 150.5,-56.8786\" fill=\"none\" stroke=\"#000000\"/>\n",
       "<polygon fill=\"#000000\" points=\"154.0001,-56.784 150.5,-46.784 147.0001,-56.784 154.0001,-56.784\" stroke=\"#000000\"/>\n",
       "</g>\n",
       "</g>\n",
       "</svg>"
      ],
      "text/plain": [
       "<IPython.core.display.SVG object>"
      ]
     },
     "execution_count": 5,
     "metadata": {},
     "output_type": "execute_result"
    }
   ],
   "source": [
    "# 2_1. Buliding a Model\n",
    "model = Sequential()\n",
    "model.add(Dense(units=64, input_dim=28*28, activation='relu')) # First layer with input shape\n",
    "model.add(Dense(units=10, activation='softmax')) # Second layer with sofrmax activation function\n",
    "\n",
    "# Model Architecture Visualization\n",
    "from IPython.display import SVG\n",
    "from keras.utils.vis_utils import model_to_dot\n",
    "\n",
    "%matplotlib inline\n",
    "\n",
    "SVG(model_to_dot(model, show_shapes=True).create(prog='dot', format='svg'))"
   ]
  },
  {
   "cell_type": "code",
   "execution_count": null,
   "metadata": {},
   "outputs": [],
   "source": [
    "# 1_2. Creating Datasets\n",
    "(x_train, y_train), (x_test, y_test) = mnist.load_data()\n",
    "print ( \"Initial train data shape is\",x_train.shape, \"Initial train label shape is\", y_train.shape)"
   ]
  },
  {
   "cell_type": "code",
   "execution_count": null,
   "metadata": {},
   "outputs": [],
   "source": [
    "# Reshape dataset to model input shape \n",
    "x_train = x_train.reshape(60000, 28, 28,1).astype('float32') / 255.0\n",
    "x_test = x_test.reshape(10000, 28, 28,1).astype('float32') / 255.0\n",
    "print ( \"Converted train data shape is\",x_train.shape)\n",
    "# Reshape label to one-hat shape for classification problem \n",
    "y_train = np_utils.to_categorical(y_train)\n",
    "y_test = np_utils.to_categorical(y_test)\n",
    "print (\"Converted train label shape is\", y_train.shape)"
   ]
  },
  {
   "cell_type": "code",
   "execution_count": null,
   "metadata": {},
   "outputs": [],
   "source": [
    "# 2_2. Buliding a Model with Convolutional layer\n",
    "model = Sequential()\n",
    "model.add(Conv2D(32, kernel_size=(3, 3),\n",
    "                 activation='relu',\n",
    "                 input_shape=(28,28,1)))  # First Convolutional layer with input shape \n",
    "model.add(Conv2D(64, (3, 3), activation='relu')) # Second Convolutional layer \n",
    "model.add(MaxPooling2D(pool_size=(2, 2)))  # MaxPooling layer\n",
    "model.add(Flatten())  # Flatten layer for converting CNN codes to Dense layer input \n",
    "model.add(Dense(128, activation='relu')) # hidden Dense layer\n",
    "model.add(Dense(10, activation='softmax')) # Activation layer with sofrmax\n",
    "\n",
    "# Model Architecture Visualization\n",
    "from IPython.display import SVG\n",
    "from keras.utils.vis_utils import model_to_dot\n",
    "\n",
    "%matplotlib inline\n",
    "\n",
    "SVG(model_to_dot(model, show_shapes=True).create(prog='dot', format='svg'))"
   ]
  },
  {
   "cell_type": "code",
   "execution_count": 7,
   "metadata": {},
   "outputs": [],
   "source": [
    "# 3. Setting up the Model Learning Process\n",
    "# Define optimizer for training\n",
    "adam = optimizers.Adam(lr=0.0001, beta_1=0.9, beta_2=0.999, epsilon=None, decay=0.0, amsgrad=False)\n",
    "# Compiling sequential model with optimizer\n",
    "model.compile(loss='categorical_crossentropy', optimizer=adam, metrics=['accuracy'])"
   ]
  },
  {
   "cell_type": "code",
   "execution_count": 8,
   "metadata": {},
   "outputs": [
    {
     "name": "stderr",
     "output_type": "stream",
     "text": [
      "/home/shr/anaconda3/lib/python3.6/site-packages/keras/models.py:981: UserWarning: The `nb_epoch` argument in `fit` has been renamed `epochs`.\n",
      "  warnings.warn('The `nb_epoch` argument in `fit` '\n"
     ]
    },
    {
     "name": "stdout",
     "output_type": "stream",
     "text": [
      "Train on 48000 samples, validate on 12000 samples\n",
      "Epoch 1/10\n",
      "48000/48000 [==============================] - 2s 35us/step - loss: 0.8283 - acc: 0.7886 - val_loss: 0.3996 - val_acc: 0.8999\n",
      "Epoch 2/10\n",
      "48000/48000 [==============================] - 2s 42us/step - loss: 0.3700 - acc: 0.9017 - val_loss: 0.3092 - val_acc: 0.9174\n",
      "Epoch 3/10\n",
      "48000/48000 [==============================] - 2s 42us/step - loss: 0.3087 - acc: 0.9148 - val_loss: 0.2740 - val_acc: 0.9253\n",
      "Epoch 4/10\n",
      "48000/48000 [==============================] - 2s 42us/step - loss: 0.2770 - acc: 0.9230 - val_loss: 0.2531 - val_acc: 0.9294\n",
      "Epoch 5/10\n",
      "48000/48000 [==============================] - 2s 42us/step - loss: 0.2537 - acc: 0.9291 - val_loss: 0.2348 - val_acc: 0.9356\n",
      "Epoch 6/10\n",
      "48000/48000 [==============================] - 2s 42us/step - loss: 0.2349 - acc: 0.9337 - val_loss: 0.2198 - val_acc: 0.9395\n",
      "Epoch 7/10\n",
      "48000/48000 [==============================] - 3s 53us/step - loss: 0.2194 - acc: 0.9382 - val_loss: 0.2089 - val_acc: 0.9424\n",
      "Epoch 8/10\n",
      "48000/48000 [==============================] - 3s 53us/step - loss: 0.2055 - acc: 0.9421 - val_loss: 0.1989 - val_acc: 0.9444\n",
      "Epoch 9/10\n",
      "48000/48000 [==============================] - 3s 53us/step - loss: 0.1931 - acc: 0.9457 - val_loss: 0.1885 - val_acc: 0.9476\n",
      "Epoch 10/10\n",
      "48000/48000 [==============================] - 3s 53us/step - loss: 0.1824 - acc: 0.9489 - val_loss: 0.1829 - val_acc: 0.9495\n"
     ]
    }
   ],
   "source": [
    "# 4. Training the Model\n",
    "hist = model.fit(x_train, y_train, batch_size=32, validation_split=0.2, shuffle=True, nb_epoch=10)"
   ]
  },
  {
   "cell_type": "code",
   "execution_count": 9,
   "metadata": {},
   "outputs": [
    {
     "data": {
      "image/png": "[encoded data removed]",
      "text/plain": [
       "<matplotlib.figure.Figure at 0x7f0b2bb811d0>"
      ]
     },
     "metadata": {},
     "output_type": "display_data"
    }
   ],
   "source": [
    "# 5. Confirm the Learning Process\n",
    "# by mathplot model training history can be visualized\n",
    "%matplotlib inline\n",
    "import matplotlib.pyplot as plt\n",
    "\n",
    "fig, loss_ax = plt.subplots()\n",
    "acc_ax = loss_ax.twinx()\n",
    "loss_ax.plot(hist.history['loss'], 'y', label='train loss')\n",
    "loss_ax.plot(hist.history['val_loss'], 'r', label='val loss')\n",
    "acc_ax.plot(hist.history['acc'], 'b', label='train acc')\n",
    "acc_ax.plot(hist.history['val_acc'], 'g', label='val acc')\n",
    "loss_ax.set_xlabel('epoch')\n",
    "loss_ax.set_ylabel('loss')\n",
    "acc_ax.set_ylabel('accuray')\n",
    "loss_ax.legend(loc='upper left')\n",
    "acc_ax.legend(loc='lower left')\n",
    "plt.show()"
   ]
  },
  {
   "cell_type": "code",
   "execution_count": 10,
   "metadata": {},
   "outputs": [
    {
     "name": "stdout",
     "output_type": "stream",
     "text": [
      "10000/10000 [==============================] - 0s 22us/step\n",
      "evaluation loss and acc\n",
      "[0.1807783282607794, 0.9472]\n"
     ]
    }
   ],
   "source": [
    "# 6. Evaluating the Model\n",
    "loss_and_metrics = model.evaluate(x_test, y_test, batch_size=32)\n",
    "print('evaluation loss and acc')\n",
    "print(loss_and_metrics)"
   ]
  },
  {
   "cell_type": "code",
   "execution_count": 31,
   "metadata": {},
   "outputs": [
    {
     "name": "stdout",
     "output_type": "stream",
     "text": [
      "[[0. 0. 0. 0. 0. 0. 0. 1. 0. 0.]]\n",
      "predicted class\n",
      "[7]\n",
      "class probabilty is\n",
      "[[6.0878265e-05 2.1356923e-08 2.7028471e-04 4.5518465e-03 2.1329497e-07\n",
      "  5.0951239e-05 3.4084209e-09 9.9483889e-01 1.4073811e-05 2.1281923e-04]]\n"
     ]
    }
   ],
   "source": [
    "# 7. Using the Model\n",
    "\n",
    "from keras.models import load_model\n",
    "\n",
    "model.save('mnist_mlp_model.h5')\n",
    "\n",
    "from keras.models import load_model\n",
    "\n",
    "model = load_model('mnist_mlp_model.h5')\n",
    "\n",
    "xhat = x_test[0:1]\n",
    "print(y_test[0:1])\n",
    "yhat = model.predict_classes(xhat)\n",
    "yhatp = model.predict(xhat)\n",
    "print('predicted class')\n",
    "print(yhat)\n",
    "print('class probabilty is')\n",
    "print(yhatp)"
   ]
  }
 ],
 "metadata": {
  "kernelspec": {
   "display_name": "Python 3",
   "language": "python",
   "name": "python3"
  },
  "language_info": {
   "codemirror_mode": {
    "name": "ipython",
    "version": 3
   },
   "file_extension": ".py",
   "mimetype": "text/x-python",
   "name": "python",
   "nbconvert_exporter": "python",
   "pygments_lexer": "ipython3",
   "version": "3.6.4"
  }
 },
 "nbformat": 4,
 "nbformat_minor": 2
}
